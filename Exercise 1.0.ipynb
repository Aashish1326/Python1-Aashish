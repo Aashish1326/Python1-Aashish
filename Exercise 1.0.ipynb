{
 "cells": [
  {
   "cell_type": "markdown",
   "id": "bb223aef",
   "metadata": {},
   "source": [
    "# Task 1"
   ]
  },
  {
   "cell_type": "markdown",
   "id": "a1ee794f",
   "metadata": {},
   "source": [
    "### 1) Write a program to get the data type of a data"
   ]
  },
  {
   "cell_type": "code",
   "execution_count": 1,
   "id": "2c2d3350",
   "metadata": {},
   "outputs": [
    {
     "data": {
      "text/plain": [
       "list"
      ]
     },
     "execution_count": 1,
     "metadata": {},
     "output_type": "execute_result"
    }
   ],
   "source": [
    "z=[1326,23]\n",
    "type(z)"
   ]
  },
  {
   "cell_type": "markdown",
   "id": "df059c9d",
   "metadata": {},
   "source": [
    "### 2) Write a program to convert a integer data type to float data type"
   ]
  },
  {
   "cell_type": "code",
   "execution_count": 2,
   "id": "cecab610",
   "metadata": {},
   "outputs": [
    {
     "data": {
      "text/plain": [
       "10"
      ]
     },
     "execution_count": 2,
     "metadata": {},
     "output_type": "execute_result"
    }
   ],
   "source": [
    "x=10\n",
    "int(x)"
   ]
  },
  {
   "cell_type": "markdown",
   "id": "cd0818d2",
   "metadata": {},
   "source": [
    "### 3) Write a program to convert a integer data type to float data type and vice versa"
   ]
  },
  {
   "cell_type": "code",
   "execution_count": 3,
   "id": "765d3f19",
   "metadata": {},
   "outputs": [
    {
     "name": "stdout",
     "output_type": "stream",
     "text": [
      "55.0\n",
      "45\n"
     ]
    }
   ],
   "source": [
    "x=55\n",
    "print(float(x))\n",
    "v = 45.7\n",
    "print(int(v))"
   ]
  },
  {
   "cell_type": "markdown",
   "id": "4e2443ef",
   "metadata": {},
   "source": [
    "### 4) Write a programme to get the actual location of the data"
   ]
  },
  {
   "cell_type": "code",
   "execution_count": 4,
   "id": "f0b59e61",
   "metadata": {},
   "outputs": [
    {
     "name": "stdout",
     "output_type": "stream",
     "text": [
      "Enter Any Value 10\n"
     ]
    },
    {
     "data": {
      "text/plain": [
       "2243321162320"
      ]
     },
     "execution_count": 4,
     "metadata": {},
     "output_type": "execute_result"
    }
   ],
   "source": [
    "y=10\n",
    "y=int(input(\"Enter Any Value \"))\n",
    "\n",
    "id(y)"
   ]
  },
  {
   "cell_type": "markdown",
   "id": "0aa86b32",
   "metadata": {},
   "source": [
    "### 5) Give an example of implict conversion and explict conversion "
   ]
  },
  {
   "cell_type": "code",
   "execution_count": 5,
   "id": "5bcfbfab",
   "metadata": {},
   "outputs": [
    {
     "name": "stdout",
     "output_type": "stream",
     "text": [
      "the implicit is2.1 and explicit is 1 \n"
     ]
    }
   ],
   "source": [
    "x=1\n",
    "y=1.1\n",
    "z=x+y\n",
    "k=int(y)\n",
    "\n",
    "print(\"the implicit is{} and explicit is {} \".format(z,k))"
   ]
  },
  {
   "cell_type": "markdown",
   "id": "cccfd0ac",
   "metadata": {},
   "source": [
    "### 6) Write a programme to prove that python is a case senstive language"
   ]
  },
  {
   "cell_type": "code",
   "execution_count": 6,
   "id": "8e939e56",
   "metadata": {},
   "outputs": [
    {
     "ename": "NameError",
     "evalue": "name 'Aashish' is not defined",
     "output_type": "error",
     "traceback": [
      "\u001b[1;31m---------------------------------------------------------------------------\u001b[0m",
      "\u001b[1;31mNameError\u001b[0m                                 Traceback (most recent call last)",
      "Input \u001b[1;32mIn [6]\u001b[0m, in \u001b[0;36m<cell line: 2>\u001b[1;34m()\u001b[0m\n\u001b[0;32m      1\u001b[0m aashish\u001b[38;5;241m=\u001b[39m(\u001b[38;5;124m'\u001b[39m\u001b[38;5;124mMumbai\u001b[39m\u001b[38;5;124m'\u001b[39m)\n\u001b[1;32m----> 2\u001b[0m \u001b[43mAashish\u001b[49m\n",
      "\u001b[1;31mNameError\u001b[0m: name 'Aashish' is not defined"
     ]
    }
   ],
   "source": [
    "aashish=('Mumbai')\n",
    "Aashish"
   ]
  },
  {
   "cell_type": "markdown",
   "id": "b7240bca",
   "metadata": {},
   "source": [
    "### 7) Write a programme to get a syntax error"
   ]
  },
  {
   "cell_type": "code",
   "execution_count": 16,
   "id": "e0e2feb3",
   "metadata": {},
   "outputs": [
    {
     "ename": "SyntaxError",
     "evalue": "invalid syntax (4272612209.py, line 6)",
     "output_type": "error",
     "traceback": [
      "\u001b[1;36m  Input \u001b[1;32mIn [16]\u001b[1;36m\u001b[0m\n\u001b[1;33m    print(\"the implicit is{} and explicit is {} \",.format(z,k))\u001b[0m\n\u001b[1;37m                                                  ^\u001b[0m\n\u001b[1;31mSyntaxError\u001b[0m\u001b[1;31m:\u001b[0m invalid syntax\n"
     ]
    }
   ],
   "source": [
    "x=1\n",
    "y=1.1\n",
    "z=x+y\n",
    "k=int(y)\n",
    "\n",
    "print(\"the implicit is{} and explicit is {} \",.format(z,k))"
   ]
  },
  {
   "cell_type": "markdown",
   "id": "476a42dc",
   "metadata": {},
   "source": [
    "### 8) Write a programme to get a type error"
   ]
  },
  {
   "cell_type": "code",
   "execution_count": 17,
   "id": "05c3a03c",
   "metadata": {},
   "outputs": [
    {
     "ename": "TypeError",
     "evalue": "can't convert complex to int",
     "output_type": "error",
     "traceback": [
      "\u001b[1;31m---------------------------------------------------------------------------\u001b[0m",
      "\u001b[1;31mTypeError\u001b[0m                                 Traceback (most recent call last)",
      "Input \u001b[1;32mIn [17]\u001b[0m, in \u001b[0;36m<cell line: 2>\u001b[1;34m()\u001b[0m\n\u001b[0;32m      1\u001b[0m x\u001b[38;5;241m=\u001b[39m\u001b[38;5;241m100\u001b[39m\u001b[38;5;241m+\u001b[39m\u001b[38;5;241m0\u001b[39mj\n\u001b[1;32m----> 2\u001b[0m \u001b[38;5;28;43mint\u001b[39;49m\u001b[43m(\u001b[49m\u001b[43mx\u001b[49m\u001b[43m)\u001b[49m\n",
      "\u001b[1;31mTypeError\u001b[0m: can't convert complex to int"
     ]
    }
   ],
   "source": [
    "x=100+0j\n",
    "int(x)"
   ]
  },
  {
   "cell_type": "markdown",
   "id": "718ca190",
   "metadata": {},
   "source": [
    "### 9) Give an example of mulitple statement in a single line"
   ]
  },
  {
   "cell_type": "code",
   "execution_count": 18,
   "id": "0f774ede",
   "metadata": {},
   "outputs": [],
   "source": [
    "ab=44 ; AD=1326"
   ]
  },
  {
   "cell_type": "markdown",
   "id": "88b31105",
   "metadata": {},
   "source": [
    "10) Give an example of single line statement in multiple line"
   ]
  },
  {
   "cell_type": "code",
   "execution_count": 15,
   "id": "fb17d097",
   "metadata": {},
   "outputs": [
    {
     "data": {
      "text/plain": [
       "40"
      ]
     },
     "execution_count": 15,
     "metadata": {},
     "output_type": "execute_result"
    }
   ],
   "source": [
    "10\\\n",
    "+\\\n",
    "10\\\n",
    "*\\\n",
    "3"
   ]
  },
  {
   "cell_type": "code",
   "execution_count": null,
   "id": "ef271816",
   "metadata": {},
   "outputs": [],
   "source": []
  }
 ],
 "metadata": {
  "kernelspec": {
   "display_name": "Python 3 (ipykernel)",
   "language": "python",
   "name": "python3"
  },
  "language_info": {
   "codemirror_mode": {
    "name": "ipython",
    "version": 3
   },
   "file_extension": ".py",
   "mimetype": "text/x-python",
   "name": "python",
   "nbconvert_exporter": "python",
   "pygments_lexer": "ipython3",
   "version": "3.9.12"
  }
 },
 "nbformat": 4,
 "nbformat_minor": 5
}
