{
 "cells": [
  {
   "cell_type": "code",
   "execution_count": 1,
   "id": "a5ea250f",
   "metadata": {},
   "outputs": [],
   "source": [
    "# write a function to find the max of three numbers in a list.\n",
    "\n",
    "def max(x,y,z):\n",
    "    if  (x>=y) and (x>=z):\n",
    "        print(x)\n",
    "    elif (y>=z) and (y>=x):\n",
    "        print(y)\n",
    "    elif (z>=x) and (z>=y):\n",
    "        print(z)"
   ]
  },
  {
   "cell_type": "code",
   "execution_count": 2,
   "id": "ff00304b",
   "metadata": {},
   "outputs": [
    {
     "name": "stdout",
     "output_type": "stream",
     "text": [
      "78\n"
     ]
    }
   ],
   "source": [
    "max(46,78,10)"
   ]
  },
  {
   "cell_type": "code",
   "execution_count": 2,
   "id": "cf3379a6",
   "metadata": {},
   "outputs": [
    {
     "name": "stdout",
     "output_type": "stream",
     "text": [
      "enter the first number :54\n",
      "enter the second number:67\n",
      "enter the operator : + for add, - for sub, * for mul, / for divde*\n",
      "3618\n"
     ]
    }
   ],
   "source": [
    "#Small Calculator\n",
    "def calc(x,y,z):\n",
    "    if y==\"+\":\n",
    "        print(x+z)\n",
    "    elif y==\"-\":\n",
    "        print(x-z)\n",
    "    elif y==\"/\":\n",
    "        print(x/z)\n",
    "    elif y==\"*\":\n",
    "        print(x*z)\n",
    "num1=int(input('enter the first number :'))\n",
    "num2=int(input('enter the second number:'))\n",
    "op=(input('enter the operator : + for add, - for sub, * for mul, / for divde'))\n",
    "calc(num1,op,num2)"
   ]
  },
  {
   "cell_type": "code",
   "execution_count": 3,
   "id": "f3fce89a",
   "metadata": {},
   "outputs": [
    {
     "name": "stdout",
     "output_type": "stream",
     "text": [
      "99\n",
      "134\n",
      "201\n",
      "347\n",
      "357\n"
     ]
    }
   ],
   "source": [
    "#2)write a python function to sume all the numbers in a list.\n",
    "\n",
    "l=[99,35,67,146,10]\n",
    "a=0\n",
    "for i in l:\n",
    "    a=a+i\n",
    "    print(a)"
   ]
  },
  {
   "cell_type": "code",
   "execution_count": 6,
   "id": "4ce33def",
   "metadata": {},
   "outputs": [],
   "source": [
    "#Rock Paper Sciesor\n",
    "\n",
    "def var1(x,y):\n",
    "    if  x==\"rock\" and y==\"scissor\":\n",
    "        print(\"Rock Win\")\n",
    "    elif x==\"rock\" and y==\"paper\":\n",
    "        print(\"paper Win\")\n",
    "    elif  x==\"rock\" and y==\"rock\":\n",
    "        print(\"tie\")\n",
    "    elif x==\"paper\" and y==\"paper\":\n",
    "        print(\"tie\")\n",
    "    elif  x==\"paper\" and y==\"scissor\":\n",
    "        print(\"scissor Win\")\n",
    "    \n",
    "    elif  x==\"scissor\" and y==\"rock\":\n",
    "        print(\"rock Win\")\n",
    "    elif x==\"scissor\" and y==\"paper\":\n",
    "        print('scissor wins')\n",
    "    elif  x==\"scissor\" and y==\"scissor\":\n",
    "        print(\"tie\")\n",
    "        "
   ]
  },
  {
   "cell_type": "code",
   "execution_count": 87,
   "id": "a5aa415e",
   "metadata": {},
   "outputs": [
    {
     "name": "stdout",
     "output_type": "stream",
     "text": [
      "paper Win\n"
     ]
    }
   ],
   "source": [
    "var1('paper','rock')"
   ]
  },
  {
   "cell_type": "code",
   "execution_count": 8,
   "id": "5c13821b",
   "metadata": {},
   "outputs": [
    {
     "name": "stdout",
     "output_type": "stream",
     "text": [
      "enter the string: madam\n",
      "its a palidrom number\n"
     ]
    }
   ],
   "source": [
    "#write a python function that checks wether a passed string is palindrom or not.\n",
    "#note:a palindrome is a word, phrase, or sequence that reads the same backward as forward, e.g., madam or nurses run.\n",
    "\n",
    "def pali(i):\n",
    "    a=i[::-1]\n",
    "    if i==a:\n",
    "        print(\"its a palidrom number\")\n",
    "    else:\n",
    "        print(\"its not a palindrome number\")\n",
    "    \n",
    "TS=input(\"enter the string: \")    \n",
    "pali(TS)"
   ]
  },
  {
   "cell_type": "code",
   "execution_count": null,
   "id": "14becd04",
   "metadata": {},
   "outputs": [],
   "source": []
  }
 ],
 "metadata": {
  "kernelspec": {
   "display_name": "Python 3 (ipykernel)",
   "language": "python",
   "name": "python3"
  },
  "language_info": {
   "codemirror_mode": {
    "name": "ipython",
    "version": 3
   },
   "file_extension": ".py",
   "mimetype": "text/x-python",
   "name": "python",
   "nbconvert_exporter": "python",
   "pygments_lexer": "ipython3",
   "version": "3.9.12"
  }
 },
 "nbformat": 4,
 "nbformat_minor": 5
}
