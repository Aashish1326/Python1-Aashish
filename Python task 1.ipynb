{
 "cells": [
  {
   "cell_type": "markdown",
   "id": "725beac2",
   "metadata": {},
   "source": [
    "## 1.Write a python program to convert a string to lower case"
   ]
  },
  {
   "cell_type": "code",
   "execution_count": 3,
   "id": "ec8d3f6b",
   "metadata": {},
   "outputs": [
    {
     "name": "stdout",
     "output_type": "stream",
     "text": [
      "type your name: ASJDEJQ\n",
      "asjdejq\n"
     ]
    }
   ],
   "source": [
    "x=input(\"type your name: \")\n",
    "a=x.lower()\n",
    "print(a)"
   ]
  },
  {
   "cell_type": "markdown",
   "id": "40c7cb5c",
   "metadata": {},
   "source": [
    "## 2.Write a python program to convert only odd indexed characters to lower case\n",
    "# Ex:- PYTHON\n",
    "# Output: - PyThOn\n"
   ]
  },
  {
   "cell_type": "code",
   "execution_count": 10,
   "id": "a863087d",
   "metadata": {},
   "outputs": [
    {
     "name": "stdout",
     "output_type": "stream",
     "text": [
      "Type your name: ASHAG\n",
      "AsJdE"
     ]
    }
   ],
   "source": [
    "a=input(\"Type your name: \")\n",
    "for i in range(len(a)):\n",
    "    if i%2!=0:\n",
    "        print (x[i].lower(),end='')\n",
    "    else:\n",
    "        print(x[i],end='')  "
   ]
  },
  {
   "cell_type": "markdown",
   "id": "a55efad4",
   "metadata": {},
   "source": [
    "## 3.Write a python program to convert only even indexed characters to lower case\n",
    "# Ex:- PYTHON\n",
    "# Output: - pYtHoN"
   ]
  },
  {
   "cell_type": "code",
   "execution_count": 12,
   "id": "67f1e7e8",
   "metadata": {},
   "outputs": [
    {
     "name": "stdout",
     "output_type": "stream",
     "text": [
      "Type your name: ASAJAL\n",
      "aSjDeJ"
     ]
    }
   ],
   "source": [
    "a=input(\"Type your name: \")\n",
    "for i in range(len(a)):\n",
    "    if i%2==0:\n",
    "        print (x[i].lower(),end='')\n",
    "    else:\n",
    "        print(x[i],end='')"
   ]
  },
  {
   "cell_type": "markdown",
   "id": "88853259",
   "metadata": {},
   "source": [
    "## 4.Write a python program to convert only odd indexed characters to upper case\n",
    "# Ex:- python\n",
    "# Output: - pYtHoN\n"
   ]
  },
  {
   "cell_type": "code",
   "execution_count": 7,
   "id": "188cf802",
   "metadata": {},
   "outputs": [
    {
     "name": "stdout",
     "output_type": "stream",
     "text": [
      "Type your name: hgfhkd\n",
      "hGfHkD"
     ]
    }
   ],
   "source": [
    "x=input(\"Type your name: \")\n",
    "for i in range(len(x)):\n",
    "    if i%2!=0:\n",
    "        print(x[i].upper(),end='')\n",
    "    else:\n",
    "        print(x[i],end='')"
   ]
  },
  {
   "cell_type": "markdown",
   "id": "79f2cde0",
   "metadata": {},
   "source": [
    "## 5.Write a python program to convert only even indexed characters to upper case\n",
    "# Ex:- python\n",
    "# Output: - PyThOn\n"
   ]
  },
  {
   "cell_type": "code",
   "execution_count": 8,
   "id": "936cbd52",
   "metadata": {},
   "outputs": [
    {
     "name": "stdout",
     "output_type": "stream",
     "text": [
      "Type Your name: EQDA\n",
      "eQdA"
     ]
    }
   ],
   "source": [
    "x=input(\"Type Your name: \")\n",
    "for i in range(len(x)):\n",
    "    if i%2==0:\n",
    "        print(x[i].lower(),end='')\n",
    "    else:\n",
    "        print(x[i],end='')"
   ]
  },
  {
   "cell_type": "code",
   "execution_count": 1,
   "id": "7e735e4a",
   "metadata": {},
   "outputs": [
    {
     "name": "stdout",
     "output_type": "stream",
     "text": [
      "Type name : Virat\n",
      "Type gender: Male\n",
      "Type age: 33\n",
      "Type phone no: 888888888\n",
      "Type father name : Prem\n",
      "Type motehr name : Saroj\n",
      "My name is Virat,\n",
      " My gender is Male,\n",
      " My age is 33 ,\n",
      " My phone no. is 888888888,\n",
      " My father name is Prem,\n",
      " My mother name is Saroj\n"
     ]
    }
   ],
   "source": [
    "## \"\"\"6.Write a python program where you have different variable which contains your name ,sex,age, phone no, \n",
    "#fathers name and mothers name.And by using this variable create a variable named bio-data where you will use all\n",
    "#this variable\n",
    "#Ex:-print(bio-data)\n",
    "#Output:- My name is …., My age is ….,My\n",
    "#phone-no is ….,my fathers name is …,and my\n",
    "#mothers name is……\"\"\"\n",
    "\n",
    "name=input(\"Type name : \")\n",
    "gender=input(\"Type gender: \")\n",
    "age=input(\"Type age: \")\n",
    "phone=input(\"Type phone no: \")\n",
    "father=input(\"Type father name : \")\n",
    "mother=input(\"Type motehr name : \")\n",
    "bio=f'My name is {name},\\n My gender is {gender},\\n My age is {age} ,\\n My phone no. is {phone},\\n My father name is {father},\\n My mother name is {mother}'\n",
    "print(bio)"
   ]
  },
  {
   "cell_type": "markdown",
   "id": "9bcf7323",
   "metadata": {},
   "source": [
    "## 7.Write a python program to count how many times “@” occurred"
   ]
  },
  {
   "cell_type": "code",
   "execution_count": 6,
   "id": "1225ab1e",
   "metadata": {},
   "outputs": [
    {
     "name": "stdout",
     "output_type": "stream",
     "text": [
      "Type anything: @@did@s\n",
      "3\n"
     ]
    }
   ],
   "source": [
    "x=input(\"Type anything: \")\n",
    "a=x.count('@')\n",
    "print(a)"
   ]
  },
  {
   "cell_type": "markdown",
   "id": "a5b75c58",
   "metadata": {},
   "source": [
    "## 8.Write a python program to get only names from the string\n",
    "# “name1.@gmail.com,name2.@gmail.com,name3.@gmail.com”\n",
    "# Output-name1,name2,name3"
   ]
  },
  {
   "cell_type": "code",
   "execution_count": 10,
   "id": "f2340743",
   "metadata": {},
   "outputs": [
    {
     "name": "stdout",
     "output_type": "stream",
     "text": [
      "name1 name2 name3\n"
     ]
    }
   ],
   "source": [
    "x=\"name1.@gmail.com,name2.@gmail.com,name3.@gmail.com\"\n",
    "a=x.split(',')\n",
    "b=a[0].split('.')\n",
    "c=a[1].split('.')\n",
    "d=a[2].split('.')\n",
    "print(b[0],c[0],d[0])"
   ]
  },
  {
   "cell_type": "markdown",
   "id": "92269dc4",
   "metadata": {},
   "source": [
    "## 9.Given a string of odd length greater that 9, return a new string made of the middle three characters of a given String\n",
    "# Ex:- “mynameissan\n",
    "# Output:- “mei”"
   ]
  },
  {
   "cell_type": "code",
   "execution_count": 16,
   "id": "fdc398d3",
   "metadata": {},
   "outputs": [
    {
     "name": "stdout",
     "output_type": "stream",
     "text": [
      "Type First String: Virat\n",
      "Type First String: Anushka\n"
     ]
    },
    {
     "data": {
      "text/plain": [
       "'ViAnushkarat'"
      ]
     },
     "execution_count": 16,
     "metadata": {},
     "output_type": "execute_result"
    }
   ],
   "source": [
    "x=input(\"Type First String: \")\n",
    "y=input(\"Type First String: \")\n",
    "z=len(x)\n",
    "a=int(z/2)\n",
    "x[0:a]+y+x[a:]"
   ]
  },
  {
   "cell_type": "markdown",
   "id": "0cfc874c",
   "metadata": {},
   "source": [
    "## 10. Write a python program to insert a 2 string in the middle of 1 string\n",
    "Ex:-Str1=”myn”\n",
    "Str2=”sa”\n",
    "Output:-“msay"
   ]
  },
  {
   "cell_type": "code",
   "execution_count": 17,
   "id": "59478675",
   "metadata": {},
   "outputs": [
    {
     "name": "stdout",
     "output_type": "stream",
     "text": [
      "enter a string: mynameissan\n",
      "4 5.5 6\n",
      "mei\n"
     ]
    }
   ],
   "source": [
    "x=input(\"enter a string: \")\n",
    "l=len(x)\n",
    "if l>9:\n",
    "    if l%2==0:\n",
    "        print('bye')\n",
    "    else:\n",
    "        h=l/2\n",
    "        b=int(h-1)         # convert ito a int \n",
    "        a=int(h+1)\n",
    "        print(b,h,a)\n",
    "        print(x[b:a+1])"
   ]
  },
  {
   "cell_type": "markdown",
   "id": "0e01e5fe",
   "metadata": {},
   "source": [
    "## 11. Write a program to remove vowels from the entire alphabets\n",
    "Ex:- “abcdefghijklmnopqrstuvwxyz”\n",
    "Output:- “bcdfghjklmnpqrstvwxyz”"
   ]
  },
  {
   "cell_type": "code",
   "execution_count": 1,
   "id": "0a9c5674",
   "metadata": {},
   "outputs": [
    {
     "name": "stdout",
     "output_type": "stream",
     "text": [
      "Type Alphabet or Name: abcdefghijklmnopqrstuvwxyz\n",
      "bcdfghjklmnpqrstvwxyz"
     ]
    }
   ],
   "source": [
    "x=input(\"Type Alphabet or Name: \")\n",
    "a=''\n",
    "d=''\n",
    "for i in x:\n",
    "    \n",
    "    if i=='A' or i=='a' or i=='E' or i=='e' or i=='I' or i=='i' or i=='O' or i=='o' or i=='U' or i=='u':\n",
    "        a=a+i\n",
    "    else:\n",
    "        d=d+i\n",
    "print(d,end='')         "
   ]
  },
  {
   "cell_type": "code",
   "execution_count": null,
   "id": "8d29c22b",
   "metadata": {},
   "outputs": [],
   "source": []
  }
 ],
 "metadata": {
  "kernelspec": {
   "display_name": "Python 3 (ipykernel)",
   "language": "python",
   "name": "python3"
  },
  "language_info": {
   "codemirror_mode": {
    "name": "ipython",
    "version": 3
   },
   "file_extension": ".py",
   "mimetype": "text/x-python",
   "name": "python",
   "nbconvert_exporter": "python",
   "pygments_lexer": "ipython3",
   "version": "3.9.12"
  }
 },
 "nbformat": 4,
 "nbformat_minor": 5
}
