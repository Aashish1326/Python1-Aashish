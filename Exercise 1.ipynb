{
 "cells": [
  {
   "cell_type": "code",
   "execution_count": 1,
   "id": "76f1790c",
   "metadata": {},
   "outputs": [
    {
     "name": "stdout",
     "output_type": "stream",
     "text": [
      "Student Marks : 97\n",
      "Grade A\n"
     ]
    }
   ],
   "source": [
    "#Q1. Write a program to accept percentage from the user and display the grade according to the following criteria:\n",
    "\n",
    "        # Marks                                    Grade\n",
    "        # > 90                                        A\n",
    "        # > 80 and <= 90                              B\n",
    "        # >= 60 and <= 80                             C\n",
    "        # below 60                                    D\n",
    "\n",
    "s_g=int(input(\"Student Marks : \"))\n",
    "\n",
    "\n",
    "if s_g>90:\n",
    "    print(\"Grade A\")\n",
    "elif s_g>80 and s_g<=90:\n",
    "    print(\"Grade B\")\n",
    "elif s_g>60 and s_g<=80:\n",
    "    print(\"Grade C\")\n",
    "elif s_g<60:    \n",
    "    print(\"Grade D\")"
   ]
  },
  {
   "cell_type": "code",
   "execution_count": 2,
   "id": "9072ca12",
   "metadata": {},
   "outputs": [
    {
     "name": "stdout",
     "output_type": "stream",
     "text": [
      "Cost price of bike : 98000\n",
      "The Road Tax 10% \n"
     ]
    }
   ],
   "source": [
    "#Q2. Write a program to accept the cost price of a bike and display the road tax to be paid according to the following criteria :\n",
    "    \n",
    "       # Cost price (in Rs)                                       Tax\n",
    "       # > 100000                                                  15 %\n",
    "       # > 50000 and <= 100000                                     10%\n",
    "       # <= 50000             \n",
    "       #                                                           5%\n",
    "        \n",
    "        \n",
    "cost=int(input(\"Cost price of bike : \"))\n",
    "\n",
    "\n",
    "if cost>100000:\n",
    "    print(\"The Road Tax 15% \")\n",
    "elif cost>50000 and cost<=100000:\n",
    "    print(\"The Road Tax 10% \")\n",
    "else:\n",
    "    print(\"Your bike price below <=50000,  Tax 5% \")"
   ]
  },
  {
   "cell_type": "code",
   "execution_count": 4,
   "id": "8ffe23dd",
   "metadata": {},
   "outputs": [
    {
     "name": "stdout",
     "output_type": "stream",
     "text": [
      "age of person 32\n",
      " Eligibel for voting \n"
     ]
    }
   ],
   "source": [
    "#4. Write program to check whether a person is eligible for voting or not\n",
    "\n",
    "x=int(input(\"age of person \"))\n",
    "if  x>=18: \n",
    "    print(\" Eligibel for voting \")\n",
    "else:\n",
    "    print(\" Not Eligible voting \")"
   ]
  },
  {
   "cell_type": "code",
   "execution_count": 6,
   "id": "6a5b69d2",
   "metadata": {},
   "outputs": [
    {
     "name": "stdout",
     "output_type": "stream",
     "text": [
      "Enter Number : 1326\n",
      " even number \n"
     ]
    }
   ],
   "source": [
    "#Q5. Write a program to check whether a number entered by user is even or odd.\n",
    "\n",
    "User=int(input(\"Enter Number : \"))\n",
    "\n",
    "if User%2==0:\n",
    "    print(\" even number \")\n",
    "else:\n",
    "    print(\" odd number \")"
   ]
  },
  {
   "cell_type": "code",
   "execution_count": 8,
   "id": "fb31edfd",
   "metadata": {},
   "outputs": [
    {
     "name": "stdout",
     "output_type": "stream",
     "text": [
      "Enter Number : 49\n",
      " divisible 7\n"
     ]
    }
   ],
   "source": [
    "#Q6. Write a program to check whether a number is divisible by 7 or not.\n",
    "x=int(input(\"Enter Number : \"))\n",
    "\n",
    "if x%7==0:\n",
    "    print(\" divisible 7\")\n",
    "else:\n",
    "    print(\" not divisible 7\")"
   ]
  },
  {
   "cell_type": "code",
   "execution_count": null,
   "id": "b57c165d",
   "metadata": {},
   "outputs": [],
   "source": [
    "#Q7. Write a program to display \"Hello\" if a number entered by user is a multiple of five , otherwise print \"Bye\".\n",
    "\n",
    "x=int(input(\"enter any value : \"))\n",
    "\n",
    "if x%5==0:\n",
    "    print(\"Hello\")\n",
    "else:\n",
    "    print(\"Bye\")"
   ]
  },
  {
   "cell_type": "code",
   "execution_count": 3,
   "id": "f408c414",
   "metadata": {},
   "outputs": [
    {
     "name": "stdout",
     "output_type": "stream",
     "text": [
      "Accept number of unit from user 460\n",
      "Charges Pay Rs 3100\n"
     ]
    }
   ],
   "source": [
    "#Q8. Write a program to calculate the electricity bill (accept number of unit from user) according to the following criteria :\n",
    "#Unit                                                          Price  \n",
    "#First 100 units                                               no charge\n",
    "#Next 100 units                                                Rs 5 per unit\n",
    "#After 200 units                                               Rs 10 per unit\n",
    "#(For example if input unit is 350 than total bill amount is Rs2000)\n",
    "\n",
    "x=int(input(\"Accept number of unit from user \"))\n",
    "\n",
    "if x<=100:\n",
    "    print(\"No Charges Pay\")\n",
    "elif x>100 and x<=200: \n",
    "    print(\"Charges Pay Rs\", (x-100)*5)\n",
    "elif x>=200:\n",
    "    print(\"Charges Pay Rs\",(100*5)+(x-200)*10)"
   ]
  },
  {
   "cell_type": "code",
   "execution_count": 4,
   "id": "665ea7be",
   "metadata": {},
   "outputs": [
    {
     "name": "stdout",
     "output_type": "stream",
     "text": [
      "Enter any value: 1326\n",
      "the last digit number of number 6\n"
     ]
    }
   ],
   "source": [
    "#Q9. Write a program to display the last digit of a number.\n",
    "#(hint : any number % 10 will return the last digit)\n",
    "\n",
    "x=int(input(\"Enter any value: \"))\n",
    "print(\"the last digit number of number\", x%10)"
   ]
  },
  {
   "cell_type": "code",
   "execution_count": null,
   "id": "e1454b38",
   "metadata": {},
   "outputs": [],
   "source": [
    "#Q10. Write a program to check whether the last digit of a number( entered by user ) is divisible by 3 or not.\n",
    "\n",
    "x=int(input(\"enter any value: \"))\n",
    "y=x%10\n",
    "if y%3==0:\n",
    "    print(\"Divisible By 3\")\n",
    "else:\n",
    "    print(\"Not  Divisible 3\")"
   ]
  }
 ],
 "metadata": {
  "kernelspec": {
   "display_name": "Python 3 (ipykernel)",
   "language": "python",
   "name": "python3"
  },
  "language_info": {
   "codemirror_mode": {
    "name": "ipython",
    "version": 3
   },
   "file_extension": ".py",
   "mimetype": "text/x-python",
   "name": "python",
   "nbconvert_exporter": "python",
   "pygments_lexer": "ipython3",
   "version": "3.9.12"
  }
 },
 "nbformat": 4,
 "nbformat_minor": 5
}
