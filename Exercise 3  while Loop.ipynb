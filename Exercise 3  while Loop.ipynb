{
 "cells": [
  {
   "cell_type": "code",
   "execution_count": 1,
   "id": "265691bf",
   "metadata": {},
   "outputs": [
    {
     "name": "stdout",
     "output_type": "stream",
     "text": [
      "AbCdE\n"
     ]
    }
   ],
   "source": [
    "#Q1) x=\"abcde\"\n",
    "#new string=\"AbCdE\" \n",
    "\n",
    "x=\"abcde\"\n",
    "y=0\n",
    "k=''\n",
    "while y<len(x):\n",
    "    if y%2==0:\n",
    "        k=k+(x[y].upper())\n",
    "    else:\n",
    "        k=k+(x[y])\n",
    "        \n",
    "    y=y+1\n",
    "print(k)"
   ]
  },
  {
   "cell_type": "code",
   "execution_count": 2,
   "id": "a478a5d1",
   "metadata": {},
   "outputs": [
    {
     "name": "stdout",
     "output_type": "stream",
     "text": [
      "Enter any string :aashish1326\n",
      "AaShIsH1326\n"
     ]
    }
   ],
   "source": [
    "#from Q2 Give Dynamic Any Input \n",
    "\n",
    "x=input(\"Enter any string :\")\n",
    "y=0\n",
    "k=''\n",
    "while y<len(x):\n",
    "    if y%2==0:\n",
    "        k=k+(x[y].upper())\n",
    "    else:\n",
    "        k=k+(x[y])\n",
    "        \n",
    "    y=y+1\n",
    "print(k)"
   ]
  },
  {
   "cell_type": "code",
   "execution_count": 3,
   "id": "6d0e8700",
   "metadata": {},
   "outputs": [
    {
     "name": "stdout",
     "output_type": "stream",
     "text": [
      "<class 'str'>\n",
      "<class 'float'>\n",
      "<class 'int'>\n",
      "<class 'str'>\n",
      "<class 'complex'>\n"
     ]
    }
   ],
   "source": [
    "#Q3 x=[\"a\",1.2,322,\"abc\",1+2j]\n",
    "x=[\"a\",1.2,322,\"abc\",1+2j]\n",
    "y=0\n",
    "while y<len(x):\n",
    "    print(type((x[y])))\n",
    "    y=y+1"
   ]
  },
  {
   "cell_type": "code",
   "execution_count": 4,
   "id": "6b98b468",
   "metadata": {},
   "outputs": [
    {
     "name": "stdout",
     "output_type": "stream",
     "text": [
      "abde\n",
      "10\n"
     ]
    }
   ],
   "source": [
    "#Q4  x=[\"a\",\"b\",1,2,3,\"d\",\"e\",4]\n",
    "#from these list two o/p ---1)\"abcde\"---2)1+2+3+4=10\n",
    "\n",
    "\n",
    "x=[\"a\",\"b\",'1','2','3',\"d\",\"e\",'4']\n",
    "y=0\n",
    "k=''\n",
    "c=0\n",
    "\n",
    "while y<len(x):\n",
    "    if x[y].isalpha():\n",
    "        k=k+x[y]\n",
    "    else:\n",
    "        c=c+int(x[y])\n",
    "        \n",
    "    y=y+1\n",
    "print(k)\n",
    "print(c)"
   ]
  },
  {
   "cell_type": "code",
   "execution_count": null,
   "id": "7c5adc4d",
   "metadata": {},
   "outputs": [],
   "source": [
    "#Q5"
   ]
  }
 ],
 "metadata": {
  "kernelspec": {
   "display_name": "Python 3 (ipykernel)",
   "language": "python",
   "name": "python3"
  },
  "language_info": {
   "codemirror_mode": {
    "name": "ipython",
    "version": 3
   },
   "file_extension": ".py",
   "mimetype": "text/x-python",
   "name": "python",
   "nbconvert_exporter": "python",
   "pygments_lexer": "ipython3",
   "version": "3.9.12"
  }
 },
 "nbformat": 4,
 "nbformat_minor": 5
}
